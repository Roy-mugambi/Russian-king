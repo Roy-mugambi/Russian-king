{
 "cells": [
  {
   "cell_type": "markdown",
   "metadata": {},
   "source": [
    "#### LEARNING NUMPY BASICS"
   ]
  },
  {
   "cell_type": "code",
   "execution_count": 32,
   "metadata": {},
   "outputs": [
    {
     "name": "stdout",
     "output_type": "stream",
     "text": [
      "[[0. 0. 0. 0. 0. 0. 0. 0.]\n",
      " [0. 0. 0. 0. 0. 0. 0. 0.]\n",
      " [0. 0. 0. 0. 0. 0. 0. 0.]]\n",
      "[[6. 6. 6. 6. 6. 6. 6. 6.]\n",
      " [6. 6. 6. 6. 6. 6. 6. 6.]\n",
      " [6. 6. 6. 6. 6. 6. 6. 6.]]\n",
      "(3, 8)\n",
      "2\n",
      "[[1 3 3 4]\n",
      " [1 1 4 6]\n",
      " [6 5 2 6]\n",
      " [5 1 1 3]]\n",
      "[3 1 5 1]\n",
      "******************************\n",
      "[[1 3 3 4]\n",
      " [1 3 3 4]\n",
      " [1 1 4 6]\n",
      " [1 1 4 6]\n",
      " [6 5 2 6]\n",
      " [6 5 2 6]\n",
      " [5 1 1 3]\n",
      " [5 1 1 3]]\n"
     ]
    }
   ],
   "source": [
    "#the zero matrix\n",
    "import numpy as np\n",
    "b=np.array([[1,3,4],[4,5]])\n",
    "a=np.zeros((3,8))\n",
    "print(a)\n",
    "#customised matrix\n",
    "a1=np.full_like(a,6)\n",
    "print(a1)\n",
    "print(a1.shape)\n",
    "print(a.ndim)\n",
    "#random values arrays\n",
    "rad=np.random.randint(0,7,size=(4,4))\n",
    "print(rad)\n",
    "print(rad[:,1])\n",
    "print(\"*\"*30)\n",
    "r1=np.repeat(rad,2,axis=0)\n",
    "print(r1)"
   ]
  },
  {
   "cell_type": "markdown",
   "metadata": {},
   "source": [
    "MATRIX COMPUTATIONS"
   ]
  },
  {
   "cell_type": "code",
   "execution_count": 38,
   "metadata": {},
   "outputs": [
    {
     "ename": "AttributeError",
     "evalue": "module 'numpy' has no attribute 'inverse'",
     "output_type": "error",
     "traceback": [
      "\u001b[1;31m---------------------------------------------------------------------------\u001b[0m",
      "\u001b[1;31mAttributeError\u001b[0m                            Traceback (most recent call last)",
      "\u001b[1;32m<ipython-input-38-1e93226a7cd4>\u001b[0m in \u001b[0;36m<module>\u001b[1;34m\u001b[0m\n\u001b[0;32m      1\u001b[0m \u001b[0ma\u001b[0m\u001b[1;33m=\u001b[0m\u001b[0mrad\u001b[0m\u001b[1;33m.\u001b[0m\u001b[0mcopy\u001b[0m\u001b[1;33m(\u001b[0m\u001b[1;33m)\u001b[0m\u001b[1;33m\u001b[0m\u001b[1;33m\u001b[0m\u001b[0m\n\u001b[1;32m----> 2\u001b[1;33m \u001b[0mb\u001b[0m\u001b[1;33m=\u001b[0m\u001b[0mnp\u001b[0m\u001b[1;33m.\u001b[0m\u001b[0minverse\u001b[0m\u001b[1;33m(\u001b[0m\u001b[0ma\u001b[0m\u001b[1;33m)\u001b[0m\u001b[1;33m\u001b[0m\u001b[1;33m\u001b[0m\u001b[0m\n\u001b[0m\u001b[0;32m      3\u001b[0m \u001b[0mprint\u001b[0m\u001b[1;33m(\u001b[0m\u001b[0mnp\u001b[0m\u001b[1;33m.\u001b[0m\u001b[0mlinalg\u001b[0m\u001b[1;33m.\u001b[0m\u001b[0mdet\u001b[0m\u001b[1;33m(\u001b[0m\u001b[0ma\u001b[0m\u001b[1;33m)\u001b[0m\u001b[1;33m)\u001b[0m\u001b[1;33m\u001b[0m\u001b[1;33m\u001b[0m\u001b[0m\n",
      "\u001b[1;31mAttributeError\u001b[0m: module 'numpy' has no attribute 'inverse'"
     ]
    }
   ],
   "source": [
    "a=rad.copy()\n",
    "b=np.inv(a)\n",
    "print(np.linalg.det(a))"
   ]
  }
 ],
 "metadata": {
  "kernelspec": {
   "display_name": "Python 3",
   "language": "python",
   "name": "python3"
  },
  "language_info": {
   "codemirror_mode": {
    "name": "ipython",
    "version": 3
   },
   "file_extension": ".py",
   "mimetype": "text/x-python",
   "name": "python",
   "nbconvert_exporter": "python",
   "pygments_lexer": "ipython3",
   "version": "3.7.4"
  }
 },
 "nbformat": 4,
 "nbformat_minor": 2
}
